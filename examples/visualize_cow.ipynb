{
 "cells": [
  {
   "cell_type": "code",
   "execution_count": 55,
   "metadata": {},
   "outputs": [],
   "source": [
    "import sys\n",
    "sys.path.append(\"../ddsl\")\n",
    "from ddsl import DDSL_phys\n",
    "from utils import normalize_V, readOBJ\n",
    "import os\n",
    "import numpy as np\n",
    "import torch\n",
    "from scipy.io import savemat"
   ]
  },
  {
   "cell_type": "code",
   "execution_count": 56,
   "metadata": {},
   "outputs": [],
   "source": [
    "V, E = readOBJ(\"mesh/cow.obj\") # read input mesh in obj format\n",
    "D = np.ones((E.shape[0], 1))   # assume constant density\n",
    "ddsl = DDSL_phys(res=[128]*3, t=[1]*3, j=3, elem_batch=10) # create ddsl object with given resolution and box size\n",
    "\n",
    "V, E, D = torch.from_numpy(V).cuda(), torch.from_numpy(E).cuda(), torch.from_numpy(D).cuda()\n",
    "V = normalize_V(V) # normalize vertex to [0,1]\n",
    "V += 1e-4 * torch.rand_like(V) # add noise to prevent coordinate singularity\n",
    "\n",
    "f = ddsl(V, E, D) # forward process\n",
    "f = f.squeeze().detach().cpu().numpy() # move from GPU to CPU"
   ]
  },
  {
   "cell_type": "code",
   "execution_count": 57,
   "metadata": {},
   "outputs": [
    {
     "data": {
      "image/png": "[encoded data removed]",
      "text/plain": [
       "<Figure size 432x288 with 2 Axes>"
      ]
     },
     "metadata": {
      "needs_background": "light"
     },
     "output_type": "display_data"
    }
   ],
   "source": [
    "# simple slice plot with matplotlib\n",
    "import matplotlib.pyplot as plt\n",
    "%matplotlib inline\n",
    "plt.imshow(f[:, 64, :].T, origin='lower')\n",
    "plt.colorbar()\n",
    "plt.show()"
   ]
  },
  {
   "cell_type": "markdown",
   "metadata": {},
   "source": [
    "### Fancier plots in Matlab\n",
    "Matpotlib does not have good 3D visualization packages. For fancier visualization in Matlab, save the tensor to .mat:\n",
    "```python\n",
    "mdict = {\"f\": f}\n",
    "savemat(\"cow.mat\", mdict)\n",
    "```\n",
    "\n",
    "then use the following matlab script:\n",
    "```\n",
    "clear all;clc;\n",
    "load('cow.mat')\n",
    "[X,Y,Z] = meshgrid(1:128);\n",
    "\n",
    "xslice = [64,  0, 0];\n",
    "yslice = [0 ,  0, 64];\n",
    "zslice = [0 , 40, 0];\n",
    "\n",
    "f = permute(f, [1,3,2]);\n",
    "\n",
    "h = slice(X, Y, Z, f, xslice, yslice, zslice);\n",
    "\n",
    "hold on\n",
    "axis equal\n",
    "axis off\n",
    "set(h, 'EdgeColor', 'none');\n",
    "camorbit(-75, 0);\n",
    "camzoom(1.25);\n",
    "alpha(.75);\n",
    "print('cow', '-dpng', '-r300')\n",
    "```\n",
    "<img src=\"../doc/cow.png\" alt=\"cow\" width=400>\n"
   ]
  }
 ],
 "metadata": {
  "kernelspec": {
   "display_name": "Python 3",
   "language": "python",
   "name": "python3"
  },
  "language_info": {
   "codemirror_mode": {
    "name": "ipython",
    "version": 3
   },
   "file_extension": ".py",
   "mimetype": "text/x-python",
   "name": "python",
   "nbconvert_exporter": "python",
   "pygments_lexer": "ipython3",
   "version": "3.6.7"
  }
 },
 "nbformat": 4,
 "nbformat_minor": 2
}
